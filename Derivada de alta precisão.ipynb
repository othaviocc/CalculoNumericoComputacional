{
  "nbformat": 4,
  "nbformat_minor": 0,
  "metadata": {
    "colab": {
      "provenance": []
    },
    "kernelspec": {
      "name": "python3",
      "display_name": "Python 3"
    },
    "language_info": {
      "name": "python"
    }
  },
  "cells": [
    {
      "cell_type": "code",
      "source": [
        "import sympy as sp\n",
        "\n",
        "def calcular_derivada(expressao, variavel):\n",
        "    var = sp.Symbol(variavel)\n",
        "    func = sp.sympify(expressao)\n",
        "    derivada = sp.diff(func, var)\n",
        "    return derivada\n",
        "\n",
        "def calcular_derivada_em_ponto(expressao, variavel, ponto):\n",
        "    var = sp.Symbol(variavel)\n",
        "    func = sp.sympify(expressao)\n",
        "    derivada = sp.diff(func, var)\n",
        "    valor_no_ponto = derivada.subs(var, ponto)\n",
        "    return valor_no_ponto\n",
        "\n",
        "if __name__ == \"__main__\":\n",
        "    expressao = input(\"Digite a função: \")\n",
        "    variavel = input(\"Digite a variável: \")\n",
        "    ponto = float(input(f\"Digite o ponto para avaliar a derivada de {expressao}: \"))\n",
        "    resultado = calcular_derivada(expressao, variavel)\n",
        "    valor_ponto = calcular_derivada_em_ponto(expressao, variavel, ponto)\n",
        "    print(f\"A derivada de {expressao} em relação a {variavel} é: {resultado}\")\n",
        "    print(f\"O valor da derivada no ponto {ponto} é: {valor_ponto}\")\n"
      ],
      "metadata": {
        "colab": {
          "base_uri": "https://localhost:8080/"
        },
        "id": "D7SsEtKAYxBn",
        "outputId": "c34c7f6c-f28a-4868-94a5-b4655e7c7086"
      },
      "execution_count": null,
      "outputs": [
        {
          "output_type": "stream",
          "name": "stdout",
          "text": [
            "Digite a função: 25*x**3-6*x**2+7*x-88\n",
            "Digite a variável: x\n",
            "Digite o ponto para avaliar a derivada de 25*x**3-6*x**2+7*x-88: 2\n",
            "A derivada de 25*x**3-6*x**2+7*x-88 em relação a x é: 75*x**2 - 12*x + 7\n",
            "O valor da derivada no ponto 2.0 é: 283.000000000000\n"
          ]
        }
      ]
    }
  ]
}