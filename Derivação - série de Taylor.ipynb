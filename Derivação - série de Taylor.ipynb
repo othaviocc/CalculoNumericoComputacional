{
  "nbformat": 4,
  "nbformat_minor": 0,
  "metadata": {
    "colab": {
      "provenance": []
    },
    "kernelspec": {
      "name": "python3",
      "display_name": "Python 3"
    },
    "language_info": {
      "name": "python"
    }
  },
  "cells": [
    {
      "cell_type": "code",
      "execution_count": null,
      "metadata": {
        "colab": {
          "base_uri": "https://localhost:8080/"
        },
        "id": "gMcd8UQx_0fg",
        "outputId": "3de984fb-5727-438c-ca40-ef1a8ae07811"
      },
      "outputs": [
        {
          "output_type": "stream",
          "name": "stdout",
          "text": [
            "f(x): 25*x**3-6*x**2+7*x-88\n",
            "Digite o ponto onde deseja calcular a derivada (x_0): 2\n",
            "Digite o valor do incremento (h): 0.2\n",
            "Derivada primeira (progressiva): 312.8000000000004\n",
            "Derivada primeira (regressiva): 255.19999999999996\n",
            "Derivada primeira (centrada): 284.00000000000017\n",
            "Segunda derivada: 288.00000000000233\n",
            "Erro (progressiva): 29.80000000000041\n",
            "Erro (regressiva): 27.80000000000004\n",
            "Erro (centrada): 1.0000000000001705\n"
          ]
        }
      ],
      "source": [
        "import numpy as np\n",
        "\n",
        "def derivada_progressiva(f, x, h):\n",
        "    #Calcula a derivada usando o método das diferenças progressivas.\n",
        "    return (f(x + h) - f(x)) / h\n",
        "\n",
        "def derivada_regressiva(f, x, h):\n",
        "    #Calcula a derivada usando o método das diferenças regressivas.\n",
        "    return (f(x) - f(x - h)) / h\n",
        "\n",
        "def derivada_centrada(f, x, h):\n",
        "    #Calcula a derivada usando o método das diferenças centradas.\n",
        "    return (f(x + h) - f(x - h)) / (2 * h)\n",
        "\n",
        "def derivada_segunda(f, x, h):\n",
        "    #Calcula a segunda derivada usando diferenças centradas.\n",
        "    return (f(x + h) - 2 * f(x) + f(x - h)) / (h**2)\n",
        "\n",
        "# Solicita a função ao usuário\n",
        "import sympy as sp\n",
        "from sympy.utilities.lambdify import lambdify\n",
        "\n",
        "expressao = input(\"f(x): \")\n",
        "try:\n",
        "    x = sp.Symbol('x')\n",
        "    func_sympy = sp.sympify(expressao)\n",
        "    func = lambdify(x, func_sympy, modules=[\"numpy\"])\n",
        "except Exception as e:\n",
        "    print(\"Erro ao interpretar a função. Verifique a sintaxe.\")\n",
        "    raise e\n",
        "\n",
        "# Solicita outros parâmetros ao usuário\n",
        "x0 = float(input(\"Digite o ponto onde deseja calcular a derivada (x_0): \"))\n",
        "h = float(input(\"Digite o valor do incremento (h): \"))\n",
        "\n",
        "# Cálculo das derivadas\n",
        "primeira_derivada_prog = derivada_progressiva(func, x0, h)\n",
        "primeira_derivada_reg = derivada_regressiva(func, x0, h)\n",
        "primeira_derivada_cent = derivada_centrada(func, x0, h)\n",
        "segunda_derivada = derivada_segunda(func, x0, h)\n",
        "\n",
        "# Exibição dos resultados\n",
        "print(\"Derivada primeira (progressiva):\", primeira_derivada_prog)\n",
        "print(\"Derivada primeira (regressiva):\", primeira_derivada_reg)\n",
        "print(\"Derivada primeira (centrada):\", primeira_derivada_cent)\n",
        "print(\"Segunda derivada:\", segunda_derivada)\n",
        "\n",
        "# Comparação com o valor exato (para análise de erro)\n",
        "try:\n",
        "    derivada_exata = sp.diff(func_sympy, x)\n",
        "    valor_exato = lambdify(x, derivada_exata, modules=[\"numpy\"])(x0)\n",
        "    erro_prog = abs(primeira_derivada_prog - valor_exato)\n",
        "    erro_reg = abs(primeira_derivada_reg - valor_exato)\n",
        "    erro_cent = abs(primeira_derivada_cent - valor_exato)\n",
        "\n",
        "    print(\"Erro (progressiva):\", erro_prog)\n",
        "    print(\"Erro (regressiva):\", erro_reg)\n",
        "    print(\"Erro (centrada):\", erro_cent)\n",
        "except Exception:\n",
        "    print(\"Não foi possível calcular a derivada exata para comparação.\")\n"
      ]
    }
  ]
}