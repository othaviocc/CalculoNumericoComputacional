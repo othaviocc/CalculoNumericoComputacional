{
  "nbformat": 4,
  "nbformat_minor": 0,
  "metadata": {
    "colab": {
      "provenance": []
    },
    "kernelspec": {
      "name": "python3",
      "display_name": "Python 3"
    },
    "language_info": {
      "name": "python"
    }
  },
  "cells": [
    {
      "cell_type": "code",
      "execution_count": null,
      "metadata": {
        "colab": {
          "base_uri": "https://localhost:8080/",
          "height": 973
        },
        "id": "XxfAyDCpDIQX",
        "outputId": "2e1a1705-0611-4cda-fc90-7702ba53d340"
      },
      "outputs": [
        {
          "output_type": "stream",
          "name": "stdout",
          "text": [
            "Digite o tamanho da matriz no formato 'n' para nxn: 3\n",
            "\n",
            "📥 Preenchendo a matriz A:\n",
            "  a11: 15\n",
            "  a12: -3\n",
            "  a13: -1\n",
            "  a21: -3\n",
            "  a22: 18\n",
            "  a23: -6\n",
            "  a31: -4\n",
            "  a32: -1\n",
            "  a33: 12\n",
            "\n",
            "📥 Preenchendo o vetor b:\n",
            "  b1: 3800\n",
            "  b2: 1200\n",
            "  b3: 2350\n",
            "\n",
            "✅ Matriz A:\n"
          ]
        },
        {
          "output_type": "display_data",
          "data": {
            "text/plain": [
              "Matrix([\n",
              "[15.0, -3.0, -1.0],\n",
              "[-3.0, 18.0, -6.0],\n",
              "[-4.0, -1.0, 12.0]])"
            ],
            "text/latex": "$\\displaystyle \\left[\\begin{matrix}15.0 & -3.0 & -1.0\\\\-3.0 & 18.0 & -6.0\\\\-4.0 & -1.0 & 12.0\\end{matrix}\\right]$"
          },
          "metadata": {}
        },
        {
          "output_type": "stream",
          "name": "stdout",
          "text": [
            "\n",
            "🔄 Matriz de Permutação P:\n"
          ]
        },
        {
          "output_type": "display_data",
          "data": {
            "text/plain": [
              "Matrix([\n",
              "[1.0, 0.0, 0.0],\n",
              "[0.0, 1.0, 0.0],\n",
              "[0.0, 0.0, 1.0]])"
            ],
            "text/latex": "$\\displaystyle \\left[\\begin{matrix}1.0 & 0.0 & 0.0\\\\0.0 & 1.0 & 0.0\\\\0.0 & 0.0 & 1.0\\end{matrix}\\right]$"
          },
          "metadata": {}
        },
        {
          "output_type": "stream",
          "name": "stdout",
          "text": [
            "\n",
            "🟩 Matriz L (8 casas decimais):\n"
          ]
        },
        {
          "output_type": "display_data",
          "data": {
            "text/plain": [
              "Matrix([\n",
              "[        1.0,         0.0, 0.0],\n",
              "[       -0.2,         1.0, 0.0],\n",
              "[-0.26666667, -0.10344828, 1.0]])"
            ],
            "text/latex": "$\\displaystyle \\left[\\begin{matrix}1.0 & 0.0 & 0.0\\\\-0.2 & 1.0 & 0.0\\\\-0.26666667 & -0.10344828 & 1.0\\end{matrix}\\right]$"
          },
          "metadata": {}
        },
        {
          "output_type": "stream",
          "name": "stdout",
          "text": [
            "\n",
            "🟥 Matriz U (8 casas decimais):\n"
          ]
        },
        {
          "output_type": "display_data",
          "data": {
            "text/plain": [
              "Matrix([\n",
              "[15.0, -3.0,        -1.0],\n",
              "[ 0.0, 17.4,        -6.2],\n",
              "[ 0.0,  0.0, 11.09195402]])"
            ],
            "text/latex": "$\\displaystyle \\left[\\begin{matrix}15.0 & -3.0 & -1.0\\\\0.0 & 17.4 & -6.2\\\\0.0 & 0.0 & 11.09195402\\end{matrix}\\right]$"
          },
          "metadata": {}
        },
        {
          "output_type": "stream",
          "name": "stdout",
          "text": [
            "\n",
            "📌 Vetor solução x (8 casas decimais):\n",
            "x1 = 320.20725389\n",
            "x2 = 227.20207254\n",
            "x3 = 321.50259067\n",
            "\n",
            "🔍 Verificação A * x:\n"
          ]
        },
        {
          "output_type": "display_data",
          "data": {
            "text/plain": [
              "Matrix([\n",
              "[3800.0],\n",
              "[1200.0],\n",
              "[2350.0]])"
            ],
            "text/latex": "$\\displaystyle \\left[\\begin{matrix}3800.0\\\\1200.0\\\\2350.0\\end{matrix}\\right]$"
          },
          "metadata": {}
        },
        {
          "output_type": "stream",
          "name": "stdout",
          "text": [
            "\n",
            "🔍 Vetor b original:\n"
          ]
        },
        {
          "output_type": "display_data",
          "data": {
            "text/plain": [
              "Matrix([\n",
              "[3800.0],\n",
              "[1200.0],\n",
              "[2350.0]])"
            ],
            "text/latex": "$\\displaystyle \\left[\\begin{matrix}3800.0\\\\1200.0\\\\2350.0\\end{matrix}\\right]$"
          },
          "metadata": {}
        }
      ],
      "source": [
        "import numpy as np\n",
        "import sympy as sp\n",
        "\n",
        "np.set_printoptions(precision=8, suppress=True)\n",
        "\n",
        "def lu_com_pivotamento_parcial(A):\n",
        "    n = A.shape[0]\n",
        "    L = np.eye(n)\n",
        "    U = A.copy().astype(np.float64)\n",
        "    P = np.eye(n)\n",
        "\n",
        "    for i in range(n):\n",
        "        # Pivotamento parcial\n",
        "        max_row = np.argmax(np.abs(U[i:, i])) + i\n",
        "        if i != max_row:\n",
        "            U[[i, max_row], :] = U[[max_row, i], :]\n",
        "            P[[i, max_row], :] = P[[max_row, i], :]\n",
        "            if i > 0:\n",
        "                L[[i, max_row], :i] = L[[max_row, i], :i]\n",
        "\n",
        "        for j in range(i+1, n):\n",
        "            if U[i, i] == 0:\n",
        "                raise ZeroDivisionError(\"Pivô zero encontrado!\")\n",
        "            fator = U[j, i] / U[i, i]\n",
        "            L[j, i] = fator\n",
        "            U[j, :] -= fator * U[i, :]\n",
        "\n",
        "    return P, L, U\n",
        "\n",
        "def resolver_sistema_lu(P, L, U, b):\n",
        "    # Aplica permutação ao vetor b\n",
        "    Pb = P @ b\n",
        "\n",
        "    # Substituição progressiva para resolver L*y = Pb\n",
        "    n = len(b)\n",
        "    y = np.zeros(n)\n",
        "    for i in range(n):\n",
        "        y[i] = Pb[i] - np.dot(L[i, :i], y[:i])\n",
        "\n",
        "    # Substituição regressiva para resolver U*x = y\n",
        "    x = np.zeros(n)\n",
        "    for i in range(n-1, -1, -1):\n",
        "        x[i] = (y[i] - np.dot(U[i, i+1:], x[i+1:])) / U[i, i]\n",
        "\n",
        "    return x\n",
        "\n",
        "def entrada_matriz():\n",
        "    n = int(input(\"Digite o tamanho da matriz no formato 'n' para nxn: \"))\n",
        "    A = np.zeros((n, n))\n",
        "    b = np.zeros(n)\n",
        "\n",
        "    print(\"\\n📥 Preenchendo a matriz A:\")\n",
        "    for i in range(n):\n",
        "        for j in range(n):\n",
        "            A[i, j] = float(input(f\"  a{i+1}{j+1}: \"))\n",
        "\n",
        "    print(\"\\n📥 Preenchendo o vetor b:\")\n",
        "    for i in range(n):\n",
        "        b[i] = float(input(f\"  b{i+1}: \"))\n",
        "\n",
        "    return A, b\n",
        "\n",
        "# Execução principal\n",
        "A, b = entrada_matriz()\n",
        "P, L, U = lu_com_pivotamento_parcial(A)\n",
        "x = resolver_sistema_lu(P, L, U, b)\n",
        "\n",
        "# Exibir resultados com 8 casas decimais\n",
        "print(\"\\n✅ Matriz A:\")\n",
        "display(sp.Matrix(A))\n",
        "\n",
        "print(\"\\n🔄 Matriz de Permutação P:\")\n",
        "display(sp.Matrix(P))\n",
        "\n",
        "print(\"\\n🟩 Matriz L (8 casas decimais):\")\n",
        "display(sp.Matrix(np.round(L, 8)))\n",
        "\n",
        "print(\"\\n🟥 Matriz U (8 casas decimais):\")\n",
        "display(sp.Matrix(np.round(U, 8)))\n",
        "\n",
        "print(\"\\n📌 Vetor solução x (8 casas decimais):\")\n",
        "for i, val in enumerate(x):\n",
        "    print(f\"x{i+1} = {val:.8f}\")\n",
        "\n",
        "# Verificação final\n",
        "print(\"\\n🔍 Verificação A * x:\")\n",
        "Ax = A @ x\n",
        "display(sp.Matrix(np.round(Ax, 8)))\n",
        "print(\"\\n🔍 Vetor b original:\")\n",
        "display(sp.Matrix(np.round(b, 8)))\n"
      ]
    }
  ]
}